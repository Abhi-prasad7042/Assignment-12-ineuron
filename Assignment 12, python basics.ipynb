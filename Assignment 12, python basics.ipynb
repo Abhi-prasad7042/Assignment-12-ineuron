{
 "cells": [
  {
   "cell_type": "markdown",
   "id": "e6e25de9",
   "metadata": {},
   "source": [
    "### Question1\n",
    "\n",
    "In what modes should the PdfFileReader() and PdfFileWriter() File objects will be opened?\n",
    "\n",
    "### Answer:-\n",
    "\n",
    "The PdfFileReader() should be opened in `rb` mode and PdfFileWriter() should be opened in `wb` mode."
   ]
  },
  {
   "cell_type": "markdown",
   "id": "367e04dd",
   "metadata": {},
   "source": [
    "### Question2\n",
    "\n",
    "From a PdfFileReader object, how do you get a Page object for page 5?\n",
    "\n",
    "### Answer:-\n",
    "\n",
    "To get page 5 we write like this `getPage(4)`, because first page starts with 0. PDF reader has a function getPage() which takes page number."
   ]
  },
  {
   "cell_type": "markdown",
   "id": "8e6c7cd8",
   "metadata": {},
   "source": [
    "### Question3\n",
    "\n",
    "What PdfFilerReader variable stores the number of pages in the PDF document?\n",
    "\n",
    "### Answer:-\n",
    "\n",
    "`numPages` variable stores the number of pages in PDF document."
   ]
  },
  {
   "cell_type": "markdown",
   "id": "888167f1",
   "metadata": {},
   "source": [
    "### Question4\n",
    "\n",
    "If a PdfFileReader objects's PDF is encrypted with the password swordfish, what must you do before you can obtain Page objects from it?\n",
    "\n",
    "### Answer:-\n",
    "\n",
    "First we have to decrypt the pdf file for decrypting the file we'll use `decrypt('swordfish')`. It is method that availabel in PdfFileWriter."
   ]
  },
  {
   "cell_type": "markdown",
   "id": "ff717322",
   "metadata": {},
   "source": [
    "### Question5\n",
    "\n",
    "What method do you use to rotate a page?\n",
    "\n",
    "### Answer:-\n",
    "\n",
    "For rotating a page we use `rotateClockwise()` method."
   ]
  },
  {
   "cell_type": "markdown",
   "id": "eebb131f",
   "metadata": {},
   "source": [
    "### Question6\n",
    "\n",
    "What is the difference between a Run object and a Paragraph object?\n",
    "\n",
    "### Answer:-\n",
    "\n",
    "A paragraph begins with a new line and contains multiple runs, and Runs are the group of characters withing the paragraph."
   ]
  },
  {
   "cell_type": "markdown",
   "id": "b182d86f",
   "metadata": {},
   "source": [
    "### Question7\n",
    "\n",
    "How do you obtain a list of Paragraph objects for a Document object that’s stored in a variable\n",
    "named doc?\n",
    "\n",
    "### Answer:-\n",
    "\n",
    "`.paragraphs` gives the list of paragraph objects."
   ]
  },
  {
   "cell_type": "code",
   "execution_count": 21,
   "id": "e4709c93",
   "metadata": {},
   "outputs": [
    {
     "data": {
      "text/plain": [
       "[<docx.text.paragraph.Paragraph at 0x266078c2490>,\n",
       " <docx.text.paragraph.Paragraph at 0x266078c23a0>,\n",
       " <docx.text.paragraph.Paragraph at 0x266078c2640>,\n",
       " <docx.text.paragraph.Paragraph at 0x266078c2040>,\n",
       " <docx.text.paragraph.Paragraph at 0x266078c2460>,\n",
       " <docx.text.paragraph.Paragraph at 0x266078c2790>]"
      ]
     },
     "execution_count": 21,
     "metadata": {},
     "output_type": "execute_result"
    }
   ],
   "source": [
    "import docx\n",
    "\n",
    "doc = docx.Document('new.docx')\n",
    "doc.paragraphs"
   ]
  },
  {
   "cell_type": "markdown",
   "id": "89eca088",
   "metadata": {},
   "source": [
    "### Question8\n",
    "\n",
    "What type of object has bold, underline, italic, strike, and outline variables?\n",
    "\n",
    "### Answer:-\n",
    "\n",
    "`add_run` object have these variables like bold, underline, italic and etc."
   ]
  },
  {
   "cell_type": "markdown",
   "id": "927a9568",
   "metadata": {},
   "source": [
    "### Question9\n",
    "\n",
    "What is the difference between False, True, and None for the bold variable?\n",
    "\n",
    "### Answer:-\n",
    "\n",
    "So, if we use `True` in bold variable then our line will became bold and if we use `False` that our line will not become bold and if we use `None` then it will also not do anything it will not change the line"
   ]
  },
  {
   "cell_type": "code",
   "execution_count": 35,
   "id": "99ff384e",
   "metadata": {},
   "outputs": [],
   "source": [
    "doc = docx.Document()\n",
    "\n",
    "para = doc.add_paragraph('This is a paragraph')\n",
    "\n",
    "para.add_run('This is bold ').bold = None\n",
    "para.add_run('This is false bold ').bold = False\n",
    "para.add_run('This is True bold').bold = True\n",
    "\n",
    "doc.save('new_doc.docx')"
   ]
  },
  {
   "cell_type": "markdown",
   "id": "5f8b774a",
   "metadata": {},
   "source": [
    "### Question10\n",
    "\n",
    "How do you create a Document object for a new Word document?\n",
    "\n",
    "### Answer:-\n",
    "\n",
    "`docx.Document()` for new document."
   ]
  },
  {
   "cell_type": "markdown",
   "id": "8dc44f27",
   "metadata": {},
   "source": [
    "### Question11\n",
    "\n",
    "How do you add a paragraph with the text 'Hello, there!' to a Document object stored in a variable named doc?\n",
    "\n",
    "### Answer:-\n",
    "\n",
    "`doc.add_paragraph('Hello, there!')` this is how we add paragraph."
   ]
  },
  {
   "cell_type": "markdown",
   "id": "d154f5c2",
   "metadata": {},
   "source": [
    "### Question12\n",
    "\n",
    "What integers represent the levels of headings available in Word documents?\n",
    "\n",
    "### Answer:-\n",
    "\n",
    "1 to 9 are availabel for headings and 0 is use for title of document. As far as we go towards to 9 the more small we get heading."
   ]
  }
 ],
 "metadata": {
  "kernelspec": {
   "display_name": "Python 3 (ipykernel)",
   "language": "python",
   "name": "python3"
  },
  "language_info": {
   "codemirror_mode": {
    "name": "ipython",
    "version": 3
   },
   "file_extension": ".py",
   "mimetype": "text/x-python",
   "name": "python",
   "nbconvert_exporter": "python",
   "pygments_lexer": "ipython3",
   "version": "3.8.11"
  }
 },
 "nbformat": 4,
 "nbformat_minor": 5
}
